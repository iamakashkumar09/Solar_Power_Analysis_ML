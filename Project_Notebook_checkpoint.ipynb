{
 "cells": [
  {
   "cell_type": "markdown",
   "id": "1358716f",
   "metadata": {
    "colab_type": "text",
    "id": "view-in-github"
   },
   "source": [
    "<a href=\"https://colab.research.google.com/github/iamakashkumar09/Solar_Power_Analysis_ML/blob/main/Project_Notebook_checkpoint.ipynb\" target=\"_parent\"><img src=\"https://colab.research.google.com/assets/colab-badge.svg\" alt=\"Open In Colab\"/></a>"
   ]
  },
  {
   "cell_type": "markdown",
   "id": "fe3d9553",
   "metadata": {
    "id": "fe3d9553"
   },
   "source": [
    "# Solar Power Generation analysis\n",
    "\n",
    "## Team Members\n",
    "### 1.Ashish Chauhan\n",
    "### 2.Akash Kumar Gaud\n",
    "### 3.Anish Chauhan\n",
    "### 4.Ashish Gautam\n",
    "### 5.Aryan Shrikant Jadhao"
   ]
  },
  {
   "cell_type": "markdown",
   "id": "421c5d02",
   "metadata": {
    "id": "421c5d02"
   },
   "source": [
    "# Step 1. Data importing and preprocessing"
   ]
  },
  {
   "cell_type": "code",
   "execution_count": 1,
   "id": "970a703d",
   "metadata": {
    "id": "970a703d"
   },
   "outputs": [],
   "source": [
    "import pandas as pd\n",
    "#import seaborn as sns\n",
    "import matplotlib.pyplot as plt\n",
    "import numpy as np\n"
   ]
  },
  {
   "cell_type": "code",
   "execution_count": 2,
   "id": "d14beb32",
   "metadata": {
    "colab": {
     "base_uri": "https://localhost:8080/",
     "height": 435
    },
    "id": "d14beb32",
    "outputId": "0a5f7ca6-452a-4a15-b454-8b503ba9cafe"
   },
   "outputs": [
    {
     "ename": "FileNotFoundError",
     "evalue": "[Errno 2] No such file or directory: 'powerPlantDataBerkeley.csv'",
     "output_type": "error",
     "traceback": [
      "\u001b[1;31m---------------------------------------------------------------------------\u001b[0m",
      "\u001b[1;31mFileNotFoundError\u001b[0m                         Traceback (most recent call last)",
      "\u001b[1;32m~\\AppData\\Local\\Temp\\ipykernel_3536\\2692336096.py\u001b[0m in \u001b[0;36m<module>\u001b[1;34m\u001b[0m\n\u001b[0;32m      1\u001b[0m \u001b[1;31m#imported the csv file\u001b[0m\u001b[1;33m\u001b[0m\u001b[1;33m\u001b[0m\u001b[1;33m\u001b[0m\u001b[0m\n\u001b[0;32m      2\u001b[0m \u001b[1;33m\u001b[0m\u001b[0m\n\u001b[1;32m----> 3\u001b[1;33m \u001b[0mdf\u001b[0m\u001b[1;33m=\u001b[0m\u001b[0mpd\u001b[0m\u001b[1;33m.\u001b[0m\u001b[0mread_csv\u001b[0m\u001b[1;33m(\u001b[0m\u001b[1;34m\"powerPlantDataBerkeley.csv\"\u001b[0m\u001b[1;33m)\u001b[0m\u001b[1;33m\u001b[0m\u001b[1;33m\u001b[0m\u001b[0m\n\u001b[0m\u001b[0;32m      4\u001b[0m \u001b[0mdf\u001b[0m\u001b[1;33m.\u001b[0m\u001b[0mhead\u001b[0m\u001b[1;33m(\u001b[0m\u001b[1;36m10\u001b[0m\u001b[1;33m)\u001b[0m\u001b[1;33m\u001b[0m\u001b[1;33m\u001b[0m\u001b[0m\n",
      "\u001b[1;32m~\\OneDrive\\Desktop\\MLProjects\\Internship_Project1\\env\\lib\\site-packages\\pandas\\util\\_decorators.py\u001b[0m in \u001b[0;36mwrapper\u001b[1;34m(*args, **kwargs)\u001b[0m\n\u001b[0;32m    309\u001b[0m                     \u001b[0mstacklevel\u001b[0m\u001b[1;33m=\u001b[0m\u001b[0mstacklevel\u001b[0m\u001b[1;33m,\u001b[0m\u001b[1;33m\u001b[0m\u001b[1;33m\u001b[0m\u001b[0m\n\u001b[0;32m    310\u001b[0m                 )\n\u001b[1;32m--> 311\u001b[1;33m             \u001b[1;32mreturn\u001b[0m \u001b[0mfunc\u001b[0m\u001b[1;33m(\u001b[0m\u001b[1;33m*\u001b[0m\u001b[0margs\u001b[0m\u001b[1;33m,\u001b[0m \u001b[1;33m**\u001b[0m\u001b[0mkwargs\u001b[0m\u001b[1;33m)\u001b[0m\u001b[1;33m\u001b[0m\u001b[1;33m\u001b[0m\u001b[0m\n\u001b[0m\u001b[0;32m    312\u001b[0m \u001b[1;33m\u001b[0m\u001b[0m\n\u001b[0;32m    313\u001b[0m         \u001b[1;32mreturn\u001b[0m \u001b[0mwrapper\u001b[0m\u001b[1;33m\u001b[0m\u001b[1;33m\u001b[0m\u001b[0m\n",
      "\u001b[1;32m~\\OneDrive\\Desktop\\MLProjects\\Internship_Project1\\env\\lib\\site-packages\\pandas\\io\\parsers\\readers.py\u001b[0m in \u001b[0;36mread_csv\u001b[1;34m(filepath_or_buffer, sep, delimiter, header, names, index_col, usecols, squeeze, prefix, mangle_dupe_cols, dtype, engine, converters, true_values, false_values, skipinitialspace, skiprows, skipfooter, nrows, na_values, keep_default_na, na_filter, verbose, skip_blank_lines, parse_dates, infer_datetime_format, keep_date_col, date_parser, dayfirst, cache_dates, iterator, chunksize, compression, thousands, decimal, lineterminator, quotechar, quoting, doublequote, escapechar, comment, encoding, encoding_errors, dialect, error_bad_lines, warn_bad_lines, on_bad_lines, delim_whitespace, low_memory, memory_map, float_precision, storage_options)\u001b[0m\n\u001b[0;32m    584\u001b[0m     \u001b[0mkwds\u001b[0m\u001b[1;33m.\u001b[0m\u001b[0mupdate\u001b[0m\u001b[1;33m(\u001b[0m\u001b[0mkwds_defaults\u001b[0m\u001b[1;33m)\u001b[0m\u001b[1;33m\u001b[0m\u001b[1;33m\u001b[0m\u001b[0m\n\u001b[0;32m    585\u001b[0m \u001b[1;33m\u001b[0m\u001b[0m\n\u001b[1;32m--> 586\u001b[1;33m     \u001b[1;32mreturn\u001b[0m \u001b[0m_read\u001b[0m\u001b[1;33m(\u001b[0m\u001b[0mfilepath_or_buffer\u001b[0m\u001b[1;33m,\u001b[0m \u001b[0mkwds\u001b[0m\u001b[1;33m)\u001b[0m\u001b[1;33m\u001b[0m\u001b[1;33m\u001b[0m\u001b[0m\n\u001b[0m\u001b[0;32m    587\u001b[0m \u001b[1;33m\u001b[0m\u001b[0m\n\u001b[0;32m    588\u001b[0m \u001b[1;33m\u001b[0m\u001b[0m\n",
      "\u001b[1;32m~\\OneDrive\\Desktop\\MLProjects\\Internship_Project1\\env\\lib\\site-packages\\pandas\\io\\parsers\\readers.py\u001b[0m in \u001b[0;36m_read\u001b[1;34m(filepath_or_buffer, kwds)\u001b[0m\n\u001b[0;32m    480\u001b[0m \u001b[1;33m\u001b[0m\u001b[0m\n\u001b[0;32m    481\u001b[0m     \u001b[1;31m# Create the parser.\u001b[0m\u001b[1;33m\u001b[0m\u001b[1;33m\u001b[0m\u001b[1;33m\u001b[0m\u001b[0m\n\u001b[1;32m--> 482\u001b[1;33m     \u001b[0mparser\u001b[0m \u001b[1;33m=\u001b[0m \u001b[0mTextFileReader\u001b[0m\u001b[1;33m(\u001b[0m\u001b[0mfilepath_or_buffer\u001b[0m\u001b[1;33m,\u001b[0m \u001b[1;33m**\u001b[0m\u001b[0mkwds\u001b[0m\u001b[1;33m)\u001b[0m\u001b[1;33m\u001b[0m\u001b[1;33m\u001b[0m\u001b[0m\n\u001b[0m\u001b[0;32m    483\u001b[0m \u001b[1;33m\u001b[0m\u001b[0m\n\u001b[0;32m    484\u001b[0m     \u001b[1;32mif\u001b[0m \u001b[0mchunksize\u001b[0m \u001b[1;32mor\u001b[0m \u001b[0miterator\u001b[0m\u001b[1;33m:\u001b[0m\u001b[1;33m\u001b[0m\u001b[1;33m\u001b[0m\u001b[0m\n",
      "\u001b[1;32m~\\OneDrive\\Desktop\\MLProjects\\Internship_Project1\\env\\lib\\site-packages\\pandas\\io\\parsers\\readers.py\u001b[0m in \u001b[0;36m__init__\u001b[1;34m(self, f, engine, **kwds)\u001b[0m\n\u001b[0;32m    809\u001b[0m             \u001b[0mself\u001b[0m\u001b[1;33m.\u001b[0m\u001b[0moptions\u001b[0m\u001b[1;33m[\u001b[0m\u001b[1;34m\"has_index_names\"\u001b[0m\u001b[1;33m]\u001b[0m \u001b[1;33m=\u001b[0m \u001b[0mkwds\u001b[0m\u001b[1;33m[\u001b[0m\u001b[1;34m\"has_index_names\"\u001b[0m\u001b[1;33m]\u001b[0m\u001b[1;33m\u001b[0m\u001b[1;33m\u001b[0m\u001b[0m\n\u001b[0;32m    810\u001b[0m \u001b[1;33m\u001b[0m\u001b[0m\n\u001b[1;32m--> 811\u001b[1;33m         \u001b[0mself\u001b[0m\u001b[1;33m.\u001b[0m\u001b[0m_engine\u001b[0m \u001b[1;33m=\u001b[0m \u001b[0mself\u001b[0m\u001b[1;33m.\u001b[0m\u001b[0m_make_engine\u001b[0m\u001b[1;33m(\u001b[0m\u001b[0mself\u001b[0m\u001b[1;33m.\u001b[0m\u001b[0mengine\u001b[0m\u001b[1;33m)\u001b[0m\u001b[1;33m\u001b[0m\u001b[1;33m\u001b[0m\u001b[0m\n\u001b[0m\u001b[0;32m    812\u001b[0m \u001b[1;33m\u001b[0m\u001b[0m\n\u001b[0;32m    813\u001b[0m     \u001b[1;32mdef\u001b[0m \u001b[0mclose\u001b[0m\u001b[1;33m(\u001b[0m\u001b[0mself\u001b[0m\u001b[1;33m)\u001b[0m\u001b[1;33m:\u001b[0m\u001b[1;33m\u001b[0m\u001b[1;33m\u001b[0m\u001b[0m\n",
      "\u001b[1;32m~\\OneDrive\\Desktop\\MLProjects\\Internship_Project1\\env\\lib\\site-packages\\pandas\\io\\parsers\\readers.py\u001b[0m in \u001b[0;36m_make_engine\u001b[1;34m(self, engine)\u001b[0m\n\u001b[0;32m   1038\u001b[0m             )\n\u001b[0;32m   1039\u001b[0m         \u001b[1;31m# error: Too many arguments for \"ParserBase\"\u001b[0m\u001b[1;33m\u001b[0m\u001b[1;33m\u001b[0m\u001b[1;33m\u001b[0m\u001b[0m\n\u001b[1;32m-> 1040\u001b[1;33m         \u001b[1;32mreturn\u001b[0m \u001b[0mmapping\u001b[0m\u001b[1;33m[\u001b[0m\u001b[0mengine\u001b[0m\u001b[1;33m]\u001b[0m\u001b[1;33m(\u001b[0m\u001b[0mself\u001b[0m\u001b[1;33m.\u001b[0m\u001b[0mf\u001b[0m\u001b[1;33m,\u001b[0m \u001b[1;33m**\u001b[0m\u001b[0mself\u001b[0m\u001b[1;33m.\u001b[0m\u001b[0moptions\u001b[0m\u001b[1;33m)\u001b[0m  \u001b[1;31m# type: ignore[call-arg]\u001b[0m\u001b[1;33m\u001b[0m\u001b[1;33m\u001b[0m\u001b[0m\n\u001b[0m\u001b[0;32m   1041\u001b[0m \u001b[1;33m\u001b[0m\u001b[0m\n\u001b[0;32m   1042\u001b[0m     \u001b[1;32mdef\u001b[0m \u001b[0m_failover_to_python\u001b[0m\u001b[1;33m(\u001b[0m\u001b[0mself\u001b[0m\u001b[1;33m)\u001b[0m\u001b[1;33m:\u001b[0m\u001b[1;33m\u001b[0m\u001b[1;33m\u001b[0m\u001b[0m\n",
      "\u001b[1;32m~\\OneDrive\\Desktop\\MLProjects\\Internship_Project1\\env\\lib\\site-packages\\pandas\\io\\parsers\\c_parser_wrapper.py\u001b[0m in \u001b[0;36m__init__\u001b[1;34m(self, src, **kwds)\u001b[0m\n\u001b[0;32m     49\u001b[0m \u001b[1;33m\u001b[0m\u001b[0m\n\u001b[0;32m     50\u001b[0m         \u001b[1;31m# open handles\u001b[0m\u001b[1;33m\u001b[0m\u001b[1;33m\u001b[0m\u001b[1;33m\u001b[0m\u001b[0m\n\u001b[1;32m---> 51\u001b[1;33m         \u001b[0mself\u001b[0m\u001b[1;33m.\u001b[0m\u001b[0m_open_handles\u001b[0m\u001b[1;33m(\u001b[0m\u001b[0msrc\u001b[0m\u001b[1;33m,\u001b[0m \u001b[0mkwds\u001b[0m\u001b[1;33m)\u001b[0m\u001b[1;33m\u001b[0m\u001b[1;33m\u001b[0m\u001b[0m\n\u001b[0m\u001b[0;32m     52\u001b[0m         \u001b[1;32massert\u001b[0m \u001b[0mself\u001b[0m\u001b[1;33m.\u001b[0m\u001b[0mhandles\u001b[0m \u001b[1;32mis\u001b[0m \u001b[1;32mnot\u001b[0m \u001b[1;32mNone\u001b[0m\u001b[1;33m\u001b[0m\u001b[1;33m\u001b[0m\u001b[0m\n\u001b[0;32m     53\u001b[0m \u001b[1;33m\u001b[0m\u001b[0m\n",
      "\u001b[1;32m~\\OneDrive\\Desktop\\MLProjects\\Internship_Project1\\env\\lib\\site-packages\\pandas\\io\\parsers\\base_parser.py\u001b[0m in \u001b[0;36m_open_handles\u001b[1;34m(self, src, kwds)\u001b[0m\n\u001b[0;32m    227\u001b[0m             \u001b[0mmemory_map\u001b[0m\u001b[1;33m=\u001b[0m\u001b[0mkwds\u001b[0m\u001b[1;33m.\u001b[0m\u001b[0mget\u001b[0m\u001b[1;33m(\u001b[0m\u001b[1;34m\"memory_map\"\u001b[0m\u001b[1;33m,\u001b[0m \u001b[1;32mFalse\u001b[0m\u001b[1;33m)\u001b[0m\u001b[1;33m,\u001b[0m\u001b[1;33m\u001b[0m\u001b[1;33m\u001b[0m\u001b[0m\n\u001b[0;32m    228\u001b[0m             \u001b[0mstorage_options\u001b[0m\u001b[1;33m=\u001b[0m\u001b[0mkwds\u001b[0m\u001b[1;33m.\u001b[0m\u001b[0mget\u001b[0m\u001b[1;33m(\u001b[0m\u001b[1;34m\"storage_options\"\u001b[0m\u001b[1;33m,\u001b[0m \u001b[1;32mNone\u001b[0m\u001b[1;33m)\u001b[0m\u001b[1;33m,\u001b[0m\u001b[1;33m\u001b[0m\u001b[1;33m\u001b[0m\u001b[0m\n\u001b[1;32m--> 229\u001b[1;33m             \u001b[0merrors\u001b[0m\u001b[1;33m=\u001b[0m\u001b[0mkwds\u001b[0m\u001b[1;33m.\u001b[0m\u001b[0mget\u001b[0m\u001b[1;33m(\u001b[0m\u001b[1;34m\"encoding_errors\"\u001b[0m\u001b[1;33m,\u001b[0m \u001b[1;34m\"strict\"\u001b[0m\u001b[1;33m)\u001b[0m\u001b[1;33m,\u001b[0m\u001b[1;33m\u001b[0m\u001b[1;33m\u001b[0m\u001b[0m\n\u001b[0m\u001b[0;32m    230\u001b[0m         )\n\u001b[0;32m    231\u001b[0m \u001b[1;33m\u001b[0m\u001b[0m\n",
      "\u001b[1;32m~\\OneDrive\\Desktop\\MLProjects\\Internship_Project1\\env\\lib\\site-packages\\pandas\\io\\common.py\u001b[0m in \u001b[0;36mget_handle\u001b[1;34m(path_or_buf, mode, encoding, compression, memory_map, is_text, errors, storage_options)\u001b[0m\n\u001b[0;32m    705\u001b[0m                 \u001b[0mencoding\u001b[0m\u001b[1;33m=\u001b[0m\u001b[0mioargs\u001b[0m\u001b[1;33m.\u001b[0m\u001b[0mencoding\u001b[0m\u001b[1;33m,\u001b[0m\u001b[1;33m\u001b[0m\u001b[1;33m\u001b[0m\u001b[0m\n\u001b[0;32m    706\u001b[0m                 \u001b[0merrors\u001b[0m\u001b[1;33m=\u001b[0m\u001b[0merrors\u001b[0m\u001b[1;33m,\u001b[0m\u001b[1;33m\u001b[0m\u001b[1;33m\u001b[0m\u001b[0m\n\u001b[1;32m--> 707\u001b[1;33m                 \u001b[0mnewline\u001b[0m\u001b[1;33m=\u001b[0m\u001b[1;34m\"\"\u001b[0m\u001b[1;33m,\u001b[0m\u001b[1;33m\u001b[0m\u001b[1;33m\u001b[0m\u001b[0m\n\u001b[0m\u001b[0;32m    708\u001b[0m             )\n\u001b[0;32m    709\u001b[0m         \u001b[1;32melse\u001b[0m\u001b[1;33m:\u001b[0m\u001b[1;33m\u001b[0m\u001b[1;33m\u001b[0m\u001b[0m\n",
      "\u001b[1;31mFileNotFoundError\u001b[0m: [Errno 2] No such file or directory: 'powerPlantDataBerkeley.csv'"
     ]
    }
   ],
   "source": [
    "#imported the csv file\n",
    "\n",
    "df=pd.read_csv(\"powerPlantDataBerkeley.csv\")\n",
    "df.head(10)"
   ]
  },
  {
   "cell_type": "code",
   "execution_count": null,
   "id": "209b0f1d",
   "metadata": {
    "colab": {
     "base_uri": "https://localhost:8080/"
    },
    "id": "209b0f1d",
    "outputId": "77c6443c-8bda-407b-cad2-f6e62f82f1bf"
   },
   "outputs": [],
   "source": [
    "df.info()"
   ]
  },
  {
   "cell_type": "markdown",
   "id": "f45b9f74",
   "metadata": {
    "id": "f45b9f74"
   },
   "source": [
    "* As clearly visible the dataset is a time series dataset but I didn't sort it because it was already sorted.\n",
    "* Secondly there are no columns with object type values hence there was no need of converting any column to pandas category and assigning the codes back to column to convert object type column to numeric type"
   ]
  },
  {
   "cell_type": "code",
   "execution_count": null,
   "id": "579472ce",
   "metadata": {
    "id": "579472ce"
   },
   "outputs": [],
   "source": [
    "X=df.drop(\"Power Generated\",axis=1)\n",
    "y=df[\"Power Generated\"]\n"
   ]
  },
  {
   "cell_type": "code",
   "execution_count": null,
   "id": "ecde1ea7",
   "metadata": {
    "id": "ecde1ea7"
   },
   "outputs": [],
   "source": [
    "'''Splitting data into train and test split of 8:2'''\n",
    "train_size=round(0.7*len(df))\n",
    "val_size=round(train_size+0.15*len(df))\n",
    "\n",
    "'''\n",
    "Splitting with train_test_split function won't work here as it shuffles the data before splitting but we avoid that in\n",
    "time series dataset\n",
    "'''\n",
    "X_train,y_train=X[:train_size],y[:train_size]\n",
    "X_val,y_val=X[train_size:val_size],y[train_size:val_size]\n",
    "X_test,y_test=X[val_size:],y[val_size:]\n",
    "\n"
   ]
  },
  {
   "cell_type": "code",
   "execution_count": null,
   "id": "2e64a5c3",
   "metadata": {
    "colab": {
     "base_uri": "https://localhost:8080/"
    },
    "id": "2e64a5c3",
    "outputId": "e315bc1d-c46a-4ccf-ddbe-0b61966ec7ff"
   },
   "outputs": [],
   "source": [
    "'''just checking if splitting is done correctly'''\n",
    "\n",
    "X_train.shape,y_train.shape,X_val.shape,y_val.shape,X_test.shape,y_test.shape"
   ]
  },
  {
   "cell_type": "markdown",
   "id": "461c75f8",
   "metadata": {
    "id": "461c75f8"
   },
   "source": [
    "## Filling missing data in train,test and validation set"
   ]
  },
  {
   "cell_type": "markdown",
   "id": "ca479d9c",
   "metadata": {
    "id": "ca479d9c"
   },
   "source": [
    "### Train set"
   ]
  },
  {
   "cell_type": "code",
   "execution_count": null,
   "id": "c36ffc42",
   "metadata": {
    "colab": {
     "base_uri": "https://localhost:8080/",
     "height": 554
    },
    "id": "c36ffc42",
    "outputId": "c1c5a4a3-ed39-4228-8086-71b3e4d02c9f"
   },
   "outputs": [],
   "source": [
    "\n",
    "X_train.isna().sum()"
   ]
  },
  {
   "cell_type": "code",
   "execution_count": null,
   "id": "aba8ca4c",
   "metadata": {
    "colab": {
     "base_uri": "https://localhost:8080/",
     "height": 783
    },
    "id": "aba8ca4c",
    "outputId": "660e1c15-d445-47d3-d11f-541ed08440ba"
   },
   "outputs": [],
   "source": [
    "'''Filling average wind column's missing value with mean of the column'''\n",
    "\n",
    "X_train[\"Average Wind Speed (Period)\"].fillna(X_train[\"Average Wind Speed (Period)\"].mean(),inplace=True)\n",
    "X_train.isna().sum()"
   ]
  },
  {
   "cell_type": "code",
   "execution_count": null,
   "id": "95d4fffd",
   "metadata": {
    "colab": {
     "base_uri": "https://localhost:8080/"
    },
    "id": "95d4fffd",
    "outputId": "794028bc-bb63-4aa0-ad2c-0910f6e83cf6"
   },
   "outputs": [],
   "source": [
    "y_train.isna().sum()"
   ]
  },
  {
   "cell_type": "markdown",
   "id": "a8ab0c6d",
   "metadata": {
    "id": "a8ab0c6d"
   },
   "source": [
    "### Validation set"
   ]
  },
  {
   "cell_type": "code",
   "execution_count": null,
   "id": "b62e4635",
   "metadata": {
    "colab": {
     "base_uri": "https://localhost:8080/",
     "height": 554
    },
    "id": "b62e4635",
    "outputId": "2b247cf4-76d3-4c03-cc32-2c440fc3546d"
   },
   "outputs": [],
   "source": [
    "X_val.isna().sum()"
   ]
  },
  {
   "cell_type": "code",
   "execution_count": null,
   "id": "f0ada3ac",
   "metadata": {
    "colab": {
     "base_uri": "https://localhost:8080/"
    },
    "id": "f0ada3ac",
    "outputId": "a784fb48-2b73-4747-d6ee-0b473f695c83"
   },
   "outputs": [],
   "source": [
    "y_val.isna().sum()"
   ]
  },
  {
   "cell_type": "markdown",
   "id": "391e6f28",
   "metadata": {
    "id": "391e6f28"
   },
   "source": [
    "### Test Set"
   ]
  },
  {
   "cell_type": "code",
   "execution_count": null,
   "id": "396877a0",
   "metadata": {
    "colab": {
     "base_uri": "https://localhost:8080/",
     "height": 554
    },
    "id": "396877a0",
    "outputId": "39a6df1f-7d99-4b2b-c1be-02184115cd49"
   },
   "outputs": [],
   "source": [
    "X_test.isna().sum()"
   ]
  },
  {
   "cell_type": "code",
   "execution_count": null,
   "id": "f667afc6",
   "metadata": {
    "colab": {
     "base_uri": "https://localhost:8080/"
    },
    "id": "f667afc6",
    "outputId": "67011532-b914-453c-b1d0-91d2d63e4e01"
   },
   "outputs": [],
   "source": [
    "y_test.isna().sum()"
   ]
  },
  {
   "cell_type": "markdown",
   "id": "2cc98c8c",
   "metadata": {
    "id": "2cc98c8c"
   },
   "source": [
    "# Step 2. Modelling & Evaluation"
   ]
  },
  {
   "cell_type": "code",
   "execution_count": null,
   "id": "3f8f0300",
   "metadata": {
    "id": "3f8f0300"
   },
   "outputs": [],
   "source": [
    "'''Custom evaluation function'''\n",
    "\n",
    "from sklearn.metrics import mean_absolute_error, mean_squared_error, r2_score\n",
    "\n",
    "def model_score(y_true, y_pred):\n",
    "    mae = mean_absolute_error(y_true, y_pred)  # Mean Absolute Error\n",
    "    mse = mean_squared_error(y_true, y_pred)  # Mean Squared Error\n",
    "    rmse = np.sqrt(mse)  # Root Mean Squared Error\n",
    "    r2 = r2_score(y_true, y_pred)  # R-squared (Coefficient of Determination)\n",
    "\n",
    "    print(\"Mean Absolute Error (MAE):\", mae)\n",
    "    print(\"Mean Squared Error (MSE):\", mse)\n",
    "    print(\"Root Mean Squared Error (RMSE):\", rmse)\n",
    "    print(\"R-squared (R2):\", r2)"
   ]
  },
  {
   "cell_type": "code",
   "execution_count": null,
   "id": "58b724ac",
   "metadata": {
    "colab": {
     "base_uri": "https://localhost:8080/"
    },
    "id": "58b724ac",
    "outputId": "d6aa54cd-7608-403f-f317-b91f284ec603",
    "scrolled": true
   },
   "outputs": [],
   "source": [
    "'''Applying Linear Regression model to dataset'''\n",
    "from sklearn.linear_model import LinearRegression\n",
    "\n",
    "model = LinearRegression()\n",
    "model.fit(X_train, y_train)\n",
    "\n",
    "y_pred_lr=model.predict(X_val)\n",
    "model_score(y_val,y_pred_lr)"
   ]
  },
  {
   "cell_type": "code",
   "execution_count": null,
   "id": "636dc602",
   "metadata": {
    "colab": {
     "base_uri": "https://localhost:8080/"
    },
    "id": "636dc602",
    "outputId": "23281fb8-5db4-4dd2-d854-578c433080ef"
   },
   "outputs": [],
   "source": [
    "'''Applying RandomForestRegressor to dataset'''\n",
    "from sklearn.ensemble import RandomForestRegressor\n",
    "\n",
    "model2 = RandomForestRegressor(n_estimators=100, random_state=42,n_jobs=-1)\n",
    "model2.fit(X_train, y_train)\n",
    "y_pred_rf=model2.predict(X_val)\n",
    "model_score(y_val,y_pred_rf)\n"
   ]
  },
  {
   "cell_type": "markdown",
   "id": "3d705772",
   "metadata": {
    "id": "3d705772"
   },
   "source": [
    "# Hyper Parameter Tuning of RandomForestRegressor"
   ]
  },
  {
   "cell_type": "markdown",
   "id": "1c4327c9",
   "metadata": {
    "id": "1c4327c9"
   },
   "source": [
    "### We will use Randomized Search CV to find best values of hyperparameters\n",
    "\n",
    "#### Adjusting the following hyper parameters\n",
    "* max_depth\n",
    "* min_samples_leaf\n",
    "* min_samples_split\n",
    "* n_estimators"
   ]
  },
  {
   "cell_type": "code",
   "execution_count": null,
   "id": "21385726",
   "metadata": {
    "colab": {
     "base_uri": "https://localhost:8080/",
     "height": 166
    },
    "id": "21385726",
    "outputId": "46e078da-17dd-4fa1-e3db-26206960ebe0"
   },
   "outputs": [],
   "source": [
    "from sklearn.model_selection import RandomizedSearchCV\n",
    "from sklearn.ensemble import RandomForestRegressor\n",
    "\n",
    "grid = {\n",
    "    \"n_estimators\": [10, 100, 200, 500, 1000, 1200],\n",
    "    \"max_depth\": [None, 5, 10, 20, 30],\n",
    "    \"min_samples_split\": [2, 4, 6],\n",
    "    \"min_samples_leaf\": [1, 2, 4]\n",
    "}\n",
    "\n",
    "rf = RandomForestRegressor(n_jobs=-1)\n",
    "rs = RandomizedSearchCV(estimator=rf, param_distributions=grid, n_iter=20, cv=5)\n",
    "\n",
    "rs.fit(X_train,y_train)"
   ]
  },
  {
   "cell_type": "code",
   "execution_count": null,
   "id": "6534652b",
   "metadata": {
    "colab": {
     "base_uri": "https://localhost:8080/"
    },
    "id": "6534652b",
    "outputId": "97f3c71c-1b05-472f-d314-dfc91c9025de"
   },
   "outputs": [],
   "source": [
    "rs.best_params_\n"
   ]
  },
  {
   "cell_type": "code",
   "execution_count": null,
   "id": "ffae3227",
   "metadata": {
    "id": "ffae3227"
   },
   "outputs": [],
   "source": [
    "rs_y_pred=rs.predict(X_val)"
   ]
  },
  {
   "cell_type": "code",
   "execution_count": null,
   "id": "53b3134c",
   "metadata": {
    "colab": {
     "base_uri": "https://localhost:8080/"
    },
    "id": "53b3134c",
    "outputId": "b27cc51b-8fd5-4f36-e73d-28a555b65be5"
   },
   "outputs": [],
   "source": [
    "model_score(y_val,rs_y_pred)"
   ]
  },
  {
   "cell_type": "markdown",
   "id": "T0jFRQW6ZCT5",
   "metadata": {
    "id": "T0jFRQW6ZCT5"
   },
   "source": [
    "# RNN (Recurrent Neural Network)"
   ]
  },
  {
   "cell_type": "markdown",
   "id": "qFmoE8_fZJmr",
   "metadata": {
    "id": "qFmoE8_fZJmr"
   },
   "source": [
    "Using LSTM Training Block"
   ]
  },
  {
   "cell_type": "code",
   "execution_count": null,
   "id": "637TOvnmZIES",
   "metadata": {
    "id": "637TOvnmZIES"
   },
   "outputs": [],
   "source": [
    "from tensorflow.keras.models import Sequential\n",
    "from tensorflow.keras.layers import LSTM, Dense"
   ]
  },
  {
   "cell_type": "code",
   "execution_count": null,
   "id": "O5Ml9SoCflws",
   "metadata": {
    "id": "O5Ml9SoCflws"
   },
   "outputs": [],
   "source": [
    "from sklearn.preprocessing import MinMaxScaler\n",
    "import numpy as np\n",
    "\n",
    "# Step 1: Scale the input features\n",
    "scaler = MinMaxScaler()\n",
    "X_train_scaled = scaler.fit_transform(X_train)\n",
    "X_test_scaled = scaler.transform(X_test)\n",
    "\n",
    "# Step 2: Scale the target variable using a separate scaler\n",
    "y_scaler = MinMaxScaler()\n",
    "y_train_scaled = y_scaler.fit_transform(y_train.values.reshape(-1, 1))\n",
    "y_test_scaled = y_scaler.transform(y_test.values.reshape(-1, 1))\n",
    "\n",
    "# Step 3: Create sequences\n",
    "def create_sequences(X, y, seq_len):\n",
    "    Xs, ys = [], []\n",
    "    for i in range(len(X) - seq_len):\n",
    "        Xs.append(X[i:i+seq_len])\n",
    "        ys.append(y[i+seq_len])\n",
    "    return np.array(Xs), np.array(ys)\n",
    "\n",
    "SEQ_LEN = 60\n",
    "X_train_seq, y_train_seq = create_sequences(X_train_scaled, y_train_scaled, SEQ_LEN)\n",
    "X_test_seq, y_test_seq = create_sequences(X_test_scaled, y_test_scaled, SEQ_LEN)\n"
   ]
  },
  {
   "cell_type": "code",
   "execution_count": null,
   "id": "MhRuWwW3ZhEV",
   "metadata": {
    "colab": {
     "base_uri": "https://localhost:8080/"
    },
    "id": "MhRuWwW3ZhEV",
    "outputId": "4ce41947-944b-4baa-c6b5-5eb410d2748e"
   },
   "outputs": [],
   "source": [
    "model_rnn = Sequential()\n",
    "model_rnn.add(LSTM(64, return_sequences=True, activation='relu', input_shape=(X_train_seq.shape[1], X_train_seq.shape[2])))\n",
    "model_rnn.add(LSTM(32, activation='relu'))\n",
    "model_rnn.add(Dense(1))\n",
    "model_rnn.compile(optimizer='adam', loss='mse')\n",
    "\n",
    "model_rnn.fit(X_train_seq, y_train_seq, epochs=50, batch_size=32, validation_data=(X_test_seq, y_test_seq))"
   ]
  },
  {
   "cell_type": "markdown",
   "id": "xK-GUKvBb6NH",
   "metadata": {
    "id": "xK-GUKvBb6NH"
   },
   "source": [
    "Training"
   ]
  },
  {
   "cell_type": "markdown",
   "id": "YAD4LDuicS-7",
   "metadata": {
    "id": "YAD4LDuicS-7"
   },
   "source": [
    "Prediction and Evaluation"
   ]
  },
  {
   "cell_type": "code",
   "execution_count": null,
   "id": "aKBUlSQkiQtS",
   "metadata": {
    "id": "aKBUlSQkiQtS"
   },
   "outputs": [],
   "source": [
    "from sklearn.metrics import mean_squared_error, mean_absolute_error\n",
    "import numpy as np"
   ]
  },
  {
   "cell_type": "code",
   "execution_count": null,
   "id": "VsE6eaV1cPsS",
   "metadata": {
    "colab": {
     "base_uri": "https://localhost:8080/"
    },
    "id": "VsE6eaV1cPsS",
    "outputId": "daa060fb-1c42-4715-f7a9-779e8f1a7f6b"
   },
   "outputs": [],
   "source": [
    "y_pred_rnn = model_rnn.predict(X_test_seq)\n",
    "y_pred_rnn_inv = y_scaler.inverse_transform(y_pred_rnn)\n",
    "y_test_seq_inv = y_scaler.inverse_transform(y_test_seq.reshape(-1,1))\n",
    "\n",
    "rmse_rnn = np.sqrt(mean_squared_error(y_test_seq_inv, y_pred_rnn_inv))\n",
    "mae_rnn = mean_absolute_error(y_test_seq_inv, y_pred_rnn_inv)\n",
    "r2_rnn = r2_score(y_test_seq_inv, y_pred_rnn_inv)\n",
    "\n",
    "print(\"Root Mean Squared Error is : \", rmse_rnn)\n",
    "print(\"Mean Absolute Error is : \", mae_rnn)\n",
    "print(\"R2 Score is : \", r2_rnn)\n"
   ]
  },
  {
   "cell_type": "code",
   "execution_count": null,
   "id": "GwDHmuTcmUAs",
   "metadata": {
    "colab": {
     "base_uri": "https://localhost:8080/"
    },
    "id": "GwDHmuTcmUAs",
    "outputId": "83053169-1bd7-4e57-b801-bc4883ceb869"
   },
   "outputs": [],
   "source": [
    "model_rnn = Sequential()\n",
    "model_rnn.add(LSTM(64, return_sequences=True, activation='tanh', input_shape=(X_train_seq.shape[1], X_train_seq.shape[2])))\n",
    "model_rnn.add(LSTM(32, activation='tanh'))\n",
    "model_rnn.add(Dense(1))\n",
    "model_rnn.compile(optimizer='adam', loss='mse')\n",
    "\n",
    "model_rnn.fit(X_train_seq, y_train_seq, epochs=50, batch_size=32, validation_data=(X_test_seq, y_test_seq))"
   ]
  },
  {
   "cell_type": "code",
   "execution_count": null,
   "id": "mGBTJ-KKmeDV",
   "metadata": {
    "colab": {
     "base_uri": "https://localhost:8080/"
    },
    "id": "mGBTJ-KKmeDV",
    "outputId": "5bdb45c0-46f5-4897-8bda-ae5bc1a519f4"
   },
   "outputs": [],
   "source": [
    "y_pred_rnn = model_rnn.predict(X_test_seq)\n",
    "y_pred_rnn_inv = y_scaler.inverse_transform(y_pred_rnn)\n",
    "y_test_seq_inv = y_scaler.inverse_transform(y_test_seq.reshape(-1,1))\n",
    "\n",
    "rmse_rnn = np.sqrt(mean_squared_error(y_test_seq_inv, y_pred_rnn_inv))\n",
    "mae_rnn = mean_absolute_error(y_test_seq_inv, y_pred_rnn_inv)\n",
    "r2_rnn = r2_score(y_test_seq_inv, y_pred_rnn_inv)\n",
    "\n",
    "print(\"Root Mean Squared Error is : \", rmse_rnn)\n",
    "print(\"Mean Absolute Error is : \", mae_rnn)\n",
    "print(\"R2 Score is : \", r2_rnn)"
   ]
  }
 ],
 "metadata": {
  "accelerator": "GPU",
  "colab": {
   "gpuType": "T4",
   "include_colab_link": true,
   "provenance": []
  },
  "kernelspec": {
   "display_name": "Python 3 (ipykernel)",
   "language": "python",
   "name": "python3"
  },
  "language_info": {
   "codemirror_mode": {
    "name": "ipython",
    "version": 3
   },
   "file_extension": ".py",
   "mimetype": "text/x-python",
   "name": "python",
   "nbconvert_exporter": "python",
   "pygments_lexer": "ipython3",
   "version": "3.7.16"
  }
 },
 "nbformat": 4,
 "nbformat_minor": 5
}
